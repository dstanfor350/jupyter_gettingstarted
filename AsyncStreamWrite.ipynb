{
 "cells": [
  {
   "cell_type": "markdown",
   "id": "f7276e73",
   "metadata": {},
   "source": [
    "# AsyncStreamWriter\n",
    "## Start AsyncStreamRead first, then this AsyncStreamWriter\n",
    "#### https://docs.python.org/3/library/asyncio-stream.html#examples"
   ]
  },
  {
   "cell_type": "code",
   "execution_count": null,
   "id": "763517e8",
   "metadata": {},
   "outputs": [],
   "source": [
    "import asyncio"
   ]
  },
  {
   "cell_type": "code",
   "execution_count": null,
   "id": "c62ab439",
   "metadata": {},
   "outputs": [],
   "source": [
    "async def tcp_echo_client(message):\n",
    "    connect = asyncio.open_connection('127.0.0.1', 8889)\n",
    "    reader, writer = await connect\n",
    "    \n",
    "    print(f'Encoded: {message!r}')\n",
    "    writer.write(message.encode())\n",
    "    await writer.drain()\n",
    "    \n",
    "    print('read from reader')\n",
    "    data = await reader.read(100)\n",
    "    \n",
    "    print(f'Received: {data.decode()!r}')\n",
    "    \n",
    "    print('Close the connection')\n",
    "    writer.close()\n",
    "    await writer.wait_closed()         "
   ]
  },
  {
   "cell_type": "code",
   "execution_count": null,
   "id": "c24945ec",
   "metadata": {},
   "outputs": [],
   "source": [
    "#asyncio.run(tcp_echo_client('Hellw World!'))\n",
    "await tcp_echo_client('Hellw World!')"
   ]
  }
 ],
 "metadata": {
  "kernelspec": {
   "display_name": "Python 3 (ipykernel)",
   "language": "python",
   "name": "python3"
  },
  "language_info": {
   "codemirror_mode": {
    "name": "ipython",
    "version": 3
   },
   "file_extension": ".py",
   "mimetype": "text/x-python",
   "name": "python",
   "nbconvert_exporter": "python",
   "pygments_lexer": "ipython3",
   "version": "3.9.5"
  }
 },
 "nbformat": 4,
 "nbformat_minor": 5
}
