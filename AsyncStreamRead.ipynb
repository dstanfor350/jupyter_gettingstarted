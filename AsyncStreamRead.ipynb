{
 "cells": [
  {
   "cell_type": "markdown",
   "id": "43ca9e82",
   "metadata": {},
   "source": [
    "# AsyncStreamRead (TCP echo server)\n",
    "## Start this first then do AsyncStreamWrite\n",
    "#### https://docs.python.org/3/library/asyncio-stream.html#examples"
   ]
  },
  {
   "cell_type": "code",
   "execution_count": 1,
   "id": "8126ea5a",
   "metadata": {},
   "outputs": [],
   "source": [
    "import asyncio"
   ]
  },
  {
   "cell_type": "code",
   "execution_count": 2,
   "id": "6d042e4b",
   "metadata": {},
   "outputs": [],
   "source": [
    "async def handle_echo(reader, writer):\n",
    "    data = await reader.read(100)\n",
    "    message = data.decode()\n",
    "    addr = writer.get_extra_info('peername')\n",
    "\n",
    "    print(f\"Received {message!r} from {addr!r}\")\n",
    "\n",
    "    print(f\"Send: {message!r}\")\n",
    "    writer.write(data)\n",
    "    await writer.drain()\n",
    "\n",
    "    print(\"Close the connection\")\n",
    "    writer.close()"
   ]
  },
  {
   "cell_type": "code",
   "execution_count": null,
   "id": "fb9e86ed",
   "metadata": {},
   "outputs": [
    {
     "name": "stdout",
     "output_type": "stream",
     "text": [
      "Serving on ('127.0.0.1', 8889)\n",
      "Received 'Hellw World!' from ('127.0.0.1', 61696)\n",
      "Send: 'Hellw World!'\n",
      "Close the connection\n",
      "Received 'Hellw World!' from ('127.0.0.1', 61699)\n",
      "Send: 'Hellw World!'\n",
      "Close the connection\n"
     ]
    }
   ],
   "source": [
    "async def main():\n",
    "    server = await asyncio.start_server(\n",
    "        handle_echo, '127.0.0.1', 8889)\n",
    "\n",
    "    addr = server.sockets[0].getsockname()\n",
    "    print(f'Serving on {addr}')\n",
    "\n",
    "    async with server:\n",
    "        await server.serve_forever()\n",
    "\n",
    "#asyncio.run(main())\n",
    "await main()"
   ]
  }
 ],
 "metadata": {
  "kernelspec": {
   "display_name": "Python 3 (ipykernel)",
   "language": "python",
   "name": "python3"
  },
  "language_info": {
   "codemirror_mode": {
    "name": "ipython",
    "version": 3
   },
   "file_extension": ".py",
   "mimetype": "text/x-python",
   "name": "python",
   "nbconvert_exporter": "python",
   "pygments_lexer": "ipython3",
   "version": "3.9.5"
  }
 },
 "nbformat": 4,
 "nbformat_minor": 5
}
